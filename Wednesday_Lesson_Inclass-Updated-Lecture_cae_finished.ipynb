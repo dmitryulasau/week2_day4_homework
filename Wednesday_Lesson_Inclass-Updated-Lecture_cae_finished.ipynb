{
 "cells": [
  {
   "cell_type": "markdown",
   "metadata": {},
   "source": [
    "# Data Collections 2 (Dictionaries, Sets) and Importing Modules"
   ]
  },
  {
   "cell_type": "markdown",
   "metadata": {},
   "source": [
    "## Tasks Today:\n",
    "\n",
    "1) Dictionary <br>\n",
    " &nbsp;&nbsp;&nbsp;&nbsp; a) Declaring (key, value) <br>\n",
    " &nbsp;&nbsp;&nbsp;&nbsp; b) Accessing Values <br>\n",
    " &nbsp;&nbsp;&nbsp;&nbsp; ------ Exercise #1 - Print the eye color of each person in a double nested dict <br>\n",
    " &nbsp;&nbsp;&nbsp;&nbsp; c) Adding New Pairs <br>\n",
    " &nbsp;&nbsp;&nbsp;&nbsp; d) Modifying Values <br>\n",
    " &nbsp;&nbsp;&nbsp;&nbsp; e) Removing Key, Value Pairs <br>\n",
    " &nbsp;&nbsp;&nbsp;&nbsp; f) Looping a Dictionary <br>\n",
    " &nbsp;&nbsp;&nbsp;&nbsp; g) Looping Only Keys <br>\n",
    " &nbsp;&nbsp;&nbsp;&nbsp; h) Looping Only Values <br>\n",
    " &nbsp;&nbsp;&nbsp;&nbsp; ------ Exercise #2 - Create a Function that Prints All Key Value Pairs within a print .format()  <br>\n",
    " &nbsp;&nbsp;&nbsp;&nbsp; i) sorted() <br>\n",
    " &nbsp;&nbsp;&nbsp;&nbsp; j) Lists with Dictionaries <br>\n",
    " &nbsp;&nbsp;&nbsp;&nbsp; k) Dictionaries with Lists <br>\n",
    " &nbsp;&nbsp;&nbsp;&nbsp; l) Dictionaries with Dictionaries <br>\n",
    " &nbsp;&nbsp;&nbsp;&nbsp; ------ Exercise #3 - Write a Function that asks someone's name and address, and then stores that into a dictionary, which prints all names and addresses after they're done putting information in...  <br>\n",
    "2) Dictionaries vs. Lists (over time)<br>\n",
    "3) Set <br>\n",
    " &nbsp;&nbsp;&nbsp;&nbsp; a) Declaring <br>\n",
    " &nbsp;&nbsp;&nbsp;&nbsp; b) .add() <br>\n",
    " &nbsp;&nbsp;&nbsp;&nbsp; c) .remove() <br>\n",
    " &nbsp;&nbsp;&nbsp;&nbsp; d) .union() <br>\n",
    " &nbsp;&nbsp;&nbsp;&nbsp; e) .intersection() <br>\n",
    " &nbsp;&nbsp;&nbsp;&nbsp; f) .difference() <br>\n",
    " &nbsp;&nbsp;&nbsp;&nbsp; g) Frozen Set <br>\n",
    "4) Modules <br>\n",
    " &nbsp;&nbsp;&nbsp;&nbsp; a) Importing Entire Modules <br>\n",
    " &nbsp;&nbsp;&nbsp;&nbsp; b) Importing Methods Only <br>\n",
    " &nbsp;&nbsp;&nbsp;&nbsp; c) Using the 'as' Keyword <br>\n",
    " &nbsp;&nbsp;&nbsp;&nbsp; d) Creating a Module <br>\n",
    "5) Exercises <br>\n",
    " &nbsp;&nbsp;&nbsp;&nbsp; a) Build a Shopping Cart <br>\n",
    " &nbsp;&nbsp;&nbsp;&nbsp; b) Create Your Own Module <br>"
   ]
  },
  {
   "cell_type": "markdown",
   "metadata": {},
   "source": [
    "## Dictionary <br>\n",
    "<p>A collection of data with 'key:value' pairs. Dictionaries are ordered as of Python 3.6</p>"
   ]
  },
  {
   "cell_type": "markdown",
   "metadata": {},
   "source": [
    "##### Declaring (key, value)"
   ]
  },
  {
   "cell_type": "raw",
   "metadata": {},
   "source": [
    "profile:\n",
    "\n",
    "First Name: kevin\n",
    "Last Name: beier\n",
    "Email: kevinb@codingtemple.com\n",
    "Age: 99\n",
    "Weight: 240\n",
    "    "
   ]
  },
  {
   "cell_type": "code",
   "execution_count": 3,
   "metadata": {},
   "outputs": [
    {
     "name": "stdout",
     "output_type": "stream",
     "text": [
      "<class 'dict'>\n",
      "<class 'dict'>\n"
     ]
    }
   ],
   "source": [
    "d= dict() ## This is the SLOOOWWW WAy to make Dictionary\n",
    "print(type(d))\n",
    "d = {} # Thisis the prefer method\n",
    "print(type(d))"
   ]
  },
  {
   "cell_type": "markdown",
   "metadata": {},
   "source": [
    "##### Accessing Values"
   ]
  },
  {
   "cell_type": "code",
   "execution_count": 8,
   "metadata": {},
   "outputs": [
    {
     "data": {
      "text/plain": [
       "4649196191357791812"
      ]
     },
     "execution_count": 8,
     "metadata": {},
     "output_type": "execute_result"
    }
   ],
   "source": [
    "hash(\"hey\")"
   ]
  },
  {
   "cell_type": "code",
   "execution_count": 9,
   "metadata": {
    "scrolled": true
   },
   "outputs": [
    {
     "data": {
      "text/plain": [
       "4649196191357791812"
      ]
     },
     "execution_count": 9,
     "metadata": {},
     "output_type": "execute_result"
    }
   ],
   "source": [
    "hash(\"hey\")"
   ]
  },
  {
   "cell_type": "code",
   "execution_count": 10,
   "metadata": {
    "scrolled": true
   },
   "outputs": [
    {
     "data": {
      "text/plain": [
       "12"
      ]
     },
     "execution_count": 10,
     "metadata": {},
     "output_type": "execute_result"
    }
   ],
   "source": [
    "hash(12)"
   ]
  },
  {
   "cell_type": "code",
   "execution_count": 11,
   "metadata": {},
   "outputs": [
    {
     "data": {
      "text/plain": [
       "6666"
      ]
     },
     "execution_count": 11,
     "metadata": {},
     "output_type": "execute_result"
    }
   ],
   "source": [
    "hash(6666)"
   ]
  },
  {
   "cell_type": "code",
   "execution_count": 15,
   "metadata": {},
   "outputs": [
    {
     "name": "stdout",
     "output_type": "stream",
     "text": [
      "{'key': 'value', 'name': 'Jacoby', 123: 'integer'}\n",
      "{'key': 'value', 'name': 'Jacoby'}\n"
     ]
    }
   ],
   "source": [
    "d1 = {\n",
    "    \"key\":\"value\",\n",
    "    \"name\":\"Jacoby\",\n",
    "    123:\"integer\"\n",
    "}\n",
    "\n",
    "# Keys Have to be 'hashable'\n",
    "# values can be anything\n",
    "\n",
    "print(d1)\n",
    "\n",
    "d = dict(key=\"value\", name=\"Jacoby\")\n",
    "print(d)\n",
    "\n"
   ]
  },
  {
   "cell_type": "code",
   "execution_count": 35,
   "metadata": {},
   "outputs": [
    {
     "name": "stdout",
     "output_type": "stream",
     "text": [
      "Dylan\n",
      "<class 'str'>\n",
      "3.5\n",
      "<class 'float'>\n",
      "Dylan Smith has showered 3.5 times this year and has Bad taste in music\n"
     ]
    },
    {
     "ename": "KeyError",
     "evalue": "'weight'",
     "output_type": "error",
     "traceback": [
      "\u001b[0;31m---------------------------------------------------------------------------\u001b[0m",
      "\u001b[0;31mKeyError\u001b[0m                                  Traceback (most recent call last)",
      "\u001b[0;32m<ipython-input-35-6775496b4fd8>\u001b[0m in \u001b[0;36m<module>\u001b[0;34m\u001b[0m\n\u001b[1;32m     26\u001b[0m \u001b[0mds\u001b[0m\u001b[0;34m[\u001b[0m\u001b[0;34m\"no_of_showers_this_year\"\u001b[0m\u001b[0;34m]\u001b[0m\u001b[0;34m==\u001b[0m\u001b[0;36m.5\u001b[0m\u001b[0;34m\u001b[0m\u001b[0;34m\u001b[0m\u001b[0m\n\u001b[1;32m     27\u001b[0m \u001b[0;34m\u001b[0m\u001b[0m\n\u001b[0;32m---> 28\u001b[0;31m \u001b[0mds\u001b[0m\u001b[0;34m[\u001b[0m\u001b[0;34m\"weight\"\u001b[0m\u001b[0;34m]\u001b[0m\u001b[0;34m\u001b[0m\u001b[0;34m\u001b[0m\u001b[0m\n\u001b[0m",
      "\u001b[0;31mKeyError\u001b[0m: 'weight'"
     ]
    }
   ],
   "source": [
    "ds = {\n",
    "    \"first_name\":\"Dylan\",\n",
    "    \"last_name\":\"Smith\",\n",
    "    \"no_of_showers_this_year\":3.5,\n",
    "    \"taste_in_music\":\"Bad\",\n",
    "    \"states_seen\":45\n",
    "}\n",
    "# ds = {\n",
    "#     \"first_name\":\"Kevin\",\n",
    "#     \"last_name\":\"Beier\",\n",
    "#     \"no_of_showers_this_year\":225,\n",
    "#     \"taste_in_music\":\"Amazing\",\n",
    "#     \"states_seen\":35\n",
    "# }\n",
    "\n",
    "\n",
    "print(ds[\"first_name\"])\n",
    "print(type(ds[\"first_name\"]))\n",
    "\n",
    "\n",
    "print(ds[\"no_of_showers_this_year\"])\n",
    "print(type(ds[\"no_of_showers_this_year\"]))\n",
    "\n",
    "print(f'{ds[\"first_name\"]} {ds[\"last_name\"]} has showered {ds[\"no_of_showers_this_year\"]} times this year and has {ds[\"taste_in_music\"]} taste in music')\n",
    "\n",
    "ds[\"no_of_showers_this_year\"]==.5\n",
    "\n",
    "ds[\"weight\"]\n"
   ]
  },
  {
   "cell_type": "markdown",
   "metadata": {},
   "source": [
    "## In-Class Exercise #1 - Print a formatted statement from the dictionary below <br>\n",
    "<p>The output should be '2018 Chevrolet Silverado'</p>"
   ]
  },
  {
   "cell_type": "code",
   "execution_count": 31,
   "metadata": {},
   "outputs": [
    {
     "name": "stdout",
     "output_type": "stream",
     "text": [
      "{'year': 2018, 'make': 'Chevrolet', 'model': 'Silverado'}\n",
      "I have a 2018 Chevrolet Silverado\n"
     ]
    }
   ],
   "source": [
    "# use the dict below\n",
    "truck = {\n",
    "    'year': 2018,\n",
    "    'make': 'Chevrolet',\n",
    "    'model': 'Silverado'\n",
    "}\n",
    "\n",
    "print(truck)\n",
    "print(\n",
    "f\"I have a {truck['year']} {truck['make']} {truck['model']}\"\n",
    ")"
   ]
  },
  {
   "cell_type": "markdown",
   "metadata": {},
   "source": [
    "##### .get()"
   ]
  },
  {
   "cell_type": "code",
   "execution_count": 41,
   "metadata": {},
   "outputs": [
    {
     "name": "stdout",
     "output_type": "stream",
     "text": [
      "21\n",
      "{'first_name': 'Dylan', 'last_name': 'Smith', 'no_of_showers_this_year': 3.5, 'taste_in_music': 'Bad', 'states_seen': 45}\n"
     ]
    }
   ],
   "source": [
    "# Slower than bracket notation\n",
    "ds = {\n",
    "    \"first_name\":\"Dylan\",\n",
    "    \"last_name\":\"Smith\",\n",
    "    \"no_of_showers_this_year\":3.5,\n",
    "    \"taste_in_music\":\"Bad\",\n",
    "    \"states_seen\":45,\n",
    "  \n",
    "}\n",
    "\n",
    "# ds[\"age\"]  error\n",
    "# print(ds.get(\"age\"))\n",
    "print(ds.get(\"age\", 21))\n",
    "print(ds)"
   ]
  },
  {
   "cell_type": "markdown",
   "metadata": {},
   "source": [
    "##### Adding New Pairs"
   ]
  },
  {
   "cell_type": "code",
   "execution_count": 45,
   "metadata": {},
   "outputs": [
    {
     "name": "stdout",
     "output_type": "stream",
     "text": [
      "{'first_name': 'Dylan', 'last_name': 'Smith', 'no_of_showers_this_year': 3.5, 'taste_in_music': 'Bad', 'states_seen': 45, 'age': 29}\n"
     ]
    }
   ],
   "source": [
    "ds = {\n",
    "    \"first_name\":\"Dylan\",\n",
    "    \"last_name\":\"Smith\",\n",
    "    \"no_of_showers_this_year\":3.5,\n",
    "    \"taste_in_music\":\"Bad\",\n",
    "    \"states_seen\":45,\n",
    "  \n",
    "}\n",
    "\n",
    "ds['age']=29\n",
    "print(ds)"
   ]
  },
  {
   "cell_type": "code",
   "execution_count": 46,
   "metadata": {},
   "outputs": [
    {
     "name": "stdout",
     "output_type": "stream",
     "text": [
      "{'first_name': 'Dylan', 'last_name': 'Smith', 'no_of_showers_this_year': 3.5, 'taste_in_music': 'Bad', 'states_seen': 45, 'age': 29, 'weights': 250}\n"
     ]
    }
   ],
   "source": [
    "my_new_key = \"weight\"\n",
    "\n",
    "ds[my_new_key+'s']=250\n",
    "print(ds)"
   ]
  },
  {
   "cell_type": "markdown",
   "metadata": {},
   "source": [
    "##### .update()"
   ]
  },
  {
   "cell_type": "code",
   "execution_count": 49,
   "metadata": {
    "scrolled": true
   },
   "outputs": [
    {
     "name": "stdout",
     "output_type": "stream",
     "text": [
      "{'first_name': 'Dylan', 'last_name': 'Smith', 'no_of_showers_this_year': 3.5, 'taste_in_music': 'Bad', 'states_seen': 45, 'age': 29}\n",
      "{'first_name': 'Dylan', 'last_name': 'Smith', 'no_of_showers_this_year': 3.5, 'taste_in_music': 'Bad', 'states_seen': 45, 'age': 29, 'weight': 250}\n"
     ]
    },
    {
     "ename": "TypeError",
     "evalue": "unsupported operand type(s) for +: 'dict' and 'dict'",
     "output_type": "error",
     "traceback": [
      "\u001b[0;31m---------------------------------------------------------------------------\u001b[0m",
      "\u001b[0;31mTypeError\u001b[0m                                 Traceback (most recent call last)",
      "\u001b[0;32m<ipython-input-49-8ef62235a155>\u001b[0m in \u001b[0;36m<module>\u001b[0;34m\u001b[0m\n\u001b[1;32m     10\u001b[0m \u001b[0mds\u001b[0m\u001b[0;34m.\u001b[0m\u001b[0mupdate\u001b[0m\u001b[0;34m(\u001b[0m\u001b[0mweight\u001b[0m\u001b[0;34m=\u001b[0m\u001b[0;36m250\u001b[0m\u001b[0;34m)\u001b[0m\u001b[0;34m\u001b[0m\u001b[0;34m\u001b[0m\u001b[0m\n\u001b[1;32m     11\u001b[0m \u001b[0mprint\u001b[0m\u001b[0;34m(\u001b[0m\u001b[0mds\u001b[0m\u001b[0;34m)\u001b[0m\u001b[0;34m\u001b[0m\u001b[0;34m\u001b[0m\u001b[0m\n\u001b[0;32m---> 12\u001b[0;31m \u001b[0mprint\u001b[0m\u001b[0;34m(\u001b[0m\u001b[0;34m{\u001b[0m\u001b[0;34m\"key\"\u001b[0m\u001b[0;34m:\u001b[0m\u001b[0;34m\"value\"\u001b[0m\u001b[0;34m}\u001b[0m\u001b[0;34m+\u001b[0m\u001b[0;34m{\u001b[0m\u001b[0;34m\"key1\"\u001b[0m\u001b[0;34m:\u001b[0m\u001b[0;34m\"value1\"\u001b[0m\u001b[0;34m}\u001b[0m\u001b[0;34m)\u001b[0m\u001b[0;34m\u001b[0m\u001b[0;34m\u001b[0m\u001b[0m\n\u001b[0m",
      "\u001b[0;31mTypeError\u001b[0m: unsupported operand type(s) for +: 'dict' and 'dict'"
     ]
    }
   ],
   "source": [
    "ds = {\n",
    "    \"first_name\":\"Dylan\",\n",
    "    \"last_name\":\"Smith\",\n",
    "    \"no_of_showers_this_year\":3.5,\n",
    "    \"taste_in_music\":\"Bad\",\n",
    "    \"states_seen\":45,\n",
    "}\n",
    "ds.update({\"age\":29})\n",
    "print(ds)\n",
    "ds.update(weight=250)\n",
    "print(ds)\n",
    "print({\"key\":\"value\"}+{\"key1\":\"value1\"}) # doesn't work"
   ]
  },
  {
   "cell_type": "markdown",
   "metadata": {},
   "source": [
    "##### Modifying Values"
   ]
  },
  {
   "cell_type": "code",
   "execution_count": 53,
   "metadata": {},
   "outputs": [
    {
     "name": "stdout",
     "output_type": "stream",
     "text": [
      "{'first_name': 'Dylan', 'last_name': 'Smith', 'no_of_showers_this_year': 6.5, 'taste_in_music': 'Bad', 'states_seen': 45}\n"
     ]
    }
   ],
   "source": [
    "# dict[key]=new value\n",
    "ds = {\n",
    "    \"first_name\":\"Dylan\",\n",
    "    \"last_name\":\"Smith\",\n",
    "    \"no_of_showers_this_year\":3.5,\n",
    "    \"taste_in_music\":\"Bad\",\n",
    "    \"states_seen\":45,\n",
    "}\n",
    "\n",
    "ds['no_of_showers_this_year']=4.5\n",
    "\n",
    "ds['no_of_showers_this_year']=ds['no_of_showers_this_year']+1\n",
    "ds['no_of_showers_this_year']+=1\n",
    "\n",
    "print(ds)\n"
   ]
  },
  {
   "cell_type": "code",
   "execution_count": 55,
   "metadata": {
    "scrolled": true
   },
   "outputs": [
    {
     "name": "stdout",
     "output_type": "stream",
     "text": [
      "{'first_name': 'Dylan', 'last_name': 'Smith', 'no_of_showers_this_year': 4.5, 'taste_in_music': 'Bad', 'states_seen': 45}\n",
      "{'first_name': 'Dylan', 'last_name': 'Smith', 'no_of_showers_this_year': 5.5, 'taste_in_music': 'Bad', 'states_seen': 45}\n"
     ]
    }
   ],
   "source": [
    "ds = {\n",
    "    \"first_name\":\"Dylan\",\n",
    "    \"last_name\":\"Smith\",\n",
    "    \"no_of_showers_this_year\":3.5,\n",
    "    \"taste_in_music\":\"Bad\",\n",
    "    \"states_seen\":45,\n",
    "}\n",
    "\n",
    "ds.update({\"no_of_showers_this_year\":4.5})\n",
    "print(ds)\n",
    "\n",
    "\n",
    "ds.update(no_of_showers_this_year=5.5)\n",
    "print(ds)\n"
   ]
  },
  {
   "cell_type": "code",
   "execution_count": 56,
   "metadata": {},
   "outputs": [
    {
     "data": {
      "text/plain": [
       "{'first_name': 'Dylan',\n",
       " 'last_name': 'Smith',\n",
       " 'no_of_showers_this_year': 3.5,\n",
       " 'taste_in_music': 'Bad',\n",
       " 'states_seen': 45}"
      ]
     },
     "execution_count": 56,
     "metadata": {},
     "output_type": "execute_result"
    }
   ],
   "source": [
    "ds = {\n",
    "    \"first_name\":\"Dylan\",\n",
    "    \"last_name\":\"Smith\",\n",
    "    \"no_of_showers_this_year\":3.5,\n",
    "    \"taste_in_music\":\"Bad\",\n",
    "    \"states_seen\":45,\n",
    "}\n",
    "\n",
    "{**ds}\n",
    "\n",
    "key=value\n",
    "**d"
   ]
  },
  {
   "cell_type": "code",
   "execution_count": 59,
   "metadata": {},
   "outputs": [
    {
     "name": "stdout",
     "output_type": "stream",
     "text": [
      "x is  1\n",
      "y is  2\n",
      "z is  3\n",
      "x is  1\n",
      "y is  2\n",
      "z is  3\n"
     ]
    }
   ],
   "source": [
    "def test_function(x, y, z):\n",
    "    print(\"x is \", x)\n",
    "    print(\"y is \", y)\n",
    "    print(\"z is \", z)\n",
    "    \n",
    "test_function(x=1,y=2,z=3)\n",
    "\n",
    "my_params={\n",
    "    \"x\":1,\n",
    "    \"y\":2,\n",
    "    \"z\":3\n",
    "}\n",
    "\n",
    "test_function(**my_params)"
   ]
  },
  {
   "cell_type": "markdown",
   "metadata": {},
   "source": [
    "##### Removing Key, Value Pairs"
   ]
  },
  {
   "cell_type": "code",
   "execution_count": 60,
   "metadata": {},
   "outputs": [
    {
     "name": "stdout",
     "output_type": "stream",
     "text": [
      "{'first_name': 'Dylan', 'last_name': 'Smith', 'taste_in_music': 'Bad', 'states_seen': 45}\n"
     ]
    }
   ],
   "source": [
    "# del dict[key]\n",
    "ds = {\n",
    "    \"first_name\":\"Dylan\",\n",
    "    \"last_name\":\"Smith\",\n",
    "    \"no_of_showers_this_year\":3.5,\n",
    "    \"taste_in_music\":\"Bad\",\n",
    "    \"states_seen\":45,\n",
    "}\n",
    "\n",
    "del ds['no_of_showers_this_year']\n",
    "print(ds)"
   ]
  },
  {
   "cell_type": "markdown",
   "metadata": {},
   "source": [
    "##### Looping a Dictionary"
   ]
  },
  {
   "cell_type": "code",
   "execution_count": 66,
   "metadata": {},
   "outputs": [
    {
     "name": "stdout",
     "output_type": "stream",
     "text": [
      "first_name\n",
      "Dylan\n",
      "last_name\n",
      "Smith\n",
      "taste_in_music\n",
      "Bad\n",
      "states_seen\n",
      "45\n"
     ]
    }
   ],
   "source": [
    "# best way to loop over keys\n",
    "for key in ds:\n",
    "    print(key)\n",
    "    print(ds[key])\n"
   ]
  },
  {
   "cell_type": "markdown",
   "metadata": {},
   "source": [
    "##### Looping Only Keys"
   ]
  },
  {
   "cell_type": "code",
   "execution_count": 68,
   "metadata": {},
   "outputs": [
    {
     "name": "stdout",
     "output_type": "stream",
     "text": [
      "first_name\n",
      "last_name\n",
      "taste_in_music\n",
      "states_seen\n",
      "dict_keys(['first_name', 'last_name', 'taste_in_music', 'states_seen'])\n"
     ]
    }
   ],
   "source": [
    "# .keys() (same as above but slower)\n",
    "for key in ds.keys():\n",
    "    print(key)\n",
    "\n",
    "print(ds.keys())"
   ]
  },
  {
   "cell_type": "markdown",
   "metadata": {},
   "source": [
    "##### Looping Only Values"
   ]
  },
  {
   "cell_type": "code",
   "execution_count": 71,
   "metadata": {
    "scrolled": true
   },
   "outputs": [
    {
     "name": "stdout",
     "output_type": "stream",
     "text": [
      "dict_values(['Dylan', 'Smith', 'Bad', 45])\n",
      "Dylan\n",
      "Smith\n",
      "Bad\n",
      "45\n"
     ]
    }
   ],
   "source": [
    "# .values()\n",
    "print(ds.values())\n",
    "for value in ds.values():\n",
    "    print(value)\n"
   ]
  },
  {
   "cell_type": "code",
   "execution_count": 77,
   "metadata": {},
   "outputs": [
    {
     "name": "stdout",
     "output_type": "stream",
     "text": [
      "dict_items([('first_name', 'Dylan'), ('last_name', 'Smith'), ('taste_in_music', 'Bad'), ('states_seen', 45)])\n",
      "first_name Dylan\n",
      "<class 'str'> <class 'str'>\n",
      "last_name Smith\n",
      "<class 'str'> <class 'str'>\n",
      "taste_in_music Bad\n",
      "<class 'str'> <class 'str'>\n",
      "states_seen 45\n",
      "<class 'str'> <class 'int'>\n"
     ]
    }
   ],
   "source": [
    "# .items()\n",
    "print(ds.items())\n",
    "\n",
    "for key, value in ds.items():\n",
    "    print(key, value)\n",
    "    print(type(key), type(value))"
   ]
  },
  {
   "cell_type": "code",
   "execution_count": 75,
   "metadata": {
    "scrolled": true
   },
   "outputs": [
    {
     "name": "stdout",
     "output_type": "stream",
     "text": [
      "[(0, 'a'), (1, 'b'), (2, 'c')]\n",
      "0 a\n",
      "1 b\n",
      "2 c\n"
     ]
    }
   ],
   "source": [
    "ml=[\"a\",\"b\",\"c\"]\n",
    "print(list(enumerate(ml)))\n",
    "for index, value in enumerate(ml):\n",
    "    print(index, value)"
   ]
  },
  {
   "cell_type": "code",
   "execution_count": null,
   "metadata": {},
   "outputs": [],
   "source": []
  },
  {
   "cell_type": "markdown",
   "metadata": {},
   "source": [
    "## In-Class Exercise #2 - Create a Function that Prints All Key Value Pairs within a print .format() <br>\n",
    "<p><b>Output should be:</b><br>\n",
    "Max has blue eyes<br>\n",
    "Lilly has brown eyes<br>\n",
    "Barney has blue eyes<br>\n",
    "etc.\n",
    "</p>"
   ]
  },
  {
   "cell_type": "code",
   "execution_count": 80,
   "metadata": {},
   "outputs": [
    {
     "name": "stdout",
     "output_type": "stream",
     "text": [
      "Max has blue eyes\n",
      "Lilly has brown eyes\n",
      "Barney has blue eyes\n",
      "Larney has brown eyes\n",
      "Ted has purple eyes\n"
     ]
    }
   ],
   "source": [
    "# use the dict below\n",
    "\n",
    "people = {\n",
    "    'Max': 'blue',\n",
    "    'Lilly': 'brown',\n",
    "    'Barney': 'blue',\n",
    "    'Larney': 'brown',\n",
    "    'Ted': 'purple'\n",
    "}\n",
    "\n",
    "\n",
    "def eye_colors(d):\n",
    "    for name, eye_color in d.items():\n",
    "        print(f'{name} has {eye_color} eyes')\n",
    "        \n",
    "eye_colors(people)\n",
    "\n",
    "#NOOOOOOOOOOOOOOOOOOOOOOOO!!!!!!!!!!!!!!!!!!!!!!!!!!!!!!!!!!!!!!!!!!!!!!!!!!!!!!!!!!\n",
    "# print(\"\"\"\n",
    "# Max has blue eyes\n",
    "# Lilly has brown eyes\n",
    "# Barney has blue eyes\n",
    "# \"\"\")"
   ]
  },
  {
   "cell_type": "markdown",
   "metadata": {},
   "source": [
    "##### sorted()"
   ]
  },
  {
   "cell_type": "code",
   "execution_count": 87,
   "metadata": {},
   "outputs": [
    {
     "name": "stdout",
     "output_type": "stream",
     "text": [
      "['Barney', 'Larney', 'Lilly', 'Max', 'Ted']\n",
      "['Barney', 'Larney', 'Lilly', 'Max', 'Ted']\n",
      "['blue', 'blue', 'brown', 'brown', 'purple']\n",
      "[('Barney', 'blue'), ('Larney', 'brown'), ('Lilly', 'brown'), ('Max', 'blue'), ('Ted', 'purple')]\n"
     ]
    }
   ],
   "source": [
    "# sorts variables in order\n",
    "# sorted(dict.values()) or dict.keys() or dict.items()\n",
    "people = {\n",
    "    'Max': 'blue',\n",
    "    'Lilly': 'brown',\n",
    "    'Barney': 'blue',\n",
    "    'Larney': 'brown',\n",
    "    'Ted': 'purple'\n",
    "}\n",
    "\n",
    "# help(sorted)\n",
    "\n",
    "print(\n",
    "    sorted(people) #Keys\n",
    ")\n",
    "\n",
    "\n",
    "print(\n",
    "    sorted(people.keys())\n",
    ")\n",
    "\n",
    "print(\n",
    "    sorted(people.values())\n",
    ")\n",
    "\n",
    "print(\n",
    "    sorted(people.items())\n",
    ")\n",
    "\n",
    "\n"
   ]
  },
  {
   "cell_type": "markdown",
   "metadata": {},
   "source": [
    "##### List with Dictionaries"
   ]
  },
  {
   "cell_type": "code",
   "execution_count": 92,
   "metadata": {},
   "outputs": [
    {
     "name": "stdout",
     "output_type": "stream",
     "text": [
      "['Shayne', 'Andre', 'Ola', 'Katina', {'random_guy': 'Steve', 'another_guy': 'Travis'}]\n",
      "{'random_guy': 'Steve', 'another_guy': 'Travis'}\n",
      "<class 'dict'>\n",
      "Steve\n"
     ]
    }
   ],
   "source": [
    "names = ['Shayne', 'Andre', 'Ola', 'Katina', {'random_guy':'Steve', 'another_guy':'Travis'}]\n",
    "print(names)\n",
    "\n",
    "print(\n",
    "    names[4]\n",
    ")\n",
    "\n",
    "print(\n",
    "    type(names[4])\n",
    ")\n",
    "\n",
    "print(\n",
    "    names[4]['random_guy']\n",
    ")\n"
   ]
  },
  {
   "cell_type": "markdown",
   "metadata": {},
   "source": [
    "##### Dictionaries with Lists"
   ]
  },
  {
   "cell_type": "code",
   "execution_count": 100,
   "metadata": {},
   "outputs": [
    {
     "name": "stdout",
     "output_type": "stream",
     "text": [
      "==========================\n",
      "Item name: Item A\n",
      "Item price: 2.99\n",
      "Item desc: A jolly Good Item\n",
      "==========================\n",
      "==========================\n",
      "Item name: Item B\n",
      "Item price: 10.99\n",
      "Item desc: A waste of money\n",
      "==========================\n",
      "==========================\n",
      "Item name: Item C\n",
      "Item price: 0.99\n",
      "Item desc: Too cheap to use\n",
      "==========================\n",
      "[{'name': 'Item A', 'price': 2.99, 'desc': 'A jolly Good Item'}, {'name': 'Item B', 'price': 10.99, 'desc': 'A waste of money'}, {'name': 'Item C', 'price': 0.99, 'desc': 'Too cheap to use'}]\n"
     ]
    }
   ],
   "source": [
    "# be careful when using numbers as keys in dictionaries, don't confuse them with indexes\n",
    "\n",
    "all_items=[\n",
    "    {\"name\":\"Item A\", \"price\":2.99, \"desc\":\"A jolly Good Item\"},\n",
    "    {\"name\":\"Item B\", \"price\":10.99, \"desc\":\"A waste of money\"},\n",
    "    {\"name\":\"Item C\", \"price\":0.99, \"desc\":\"Too cheap to use\"}\n",
    "]\n",
    "\n",
    "for item in all_items:\n",
    "    print(\"==========================\")\n",
    "    print(f\"Item name: {item['name']}\")\n",
    "    print(f\"Item price: {item['price']}\")\n",
    "    print(f\"Item desc: {item['desc']}\")    \n",
    "    print(\"==========================\")\n",
    "\n",
    "\n",
    "print(all_items)"
   ]
  },
  {
   "cell_type": "markdown",
   "metadata": {},
   "source": [
    "##### Dictionaries with Dictionaries"
   ]
  },
  {
   "cell_type": "code",
   "execution_count": 143,
   "metadata": {},
   "outputs": [
    {
     "name": "stdout",
     "output_type": "stream",
     "text": [
      "Jody Sheffield\n",
      "True\n",
      "{'name': 'Firebird', 'year': 1968}\n",
      "impala\n",
      "I am Disgusted\n",
      "Jody Sheffield thinks mint is False\n",
      "1968 1961 1972\n",
      "1968\n",
      "1961\n",
      "1972\n",
      "Jody likes praline\n",
      "Jody likes tonight_dough\n",
      "Jody does not like mint\n",
      "I am tired\n",
      "I am confused\n",
      "I am Disgusted\n",
      "I Am a genious\n",
      "I am an idoit\n",
      "Jody has a 1968 Firebird \n",
      "Jody has a 1961 impala \n",
      "Jody has a 1972 camero \n",
      "Jody has a 1968 Firebird\n",
      "Jody has a 1961 impala\n",
      "Jody has a 1972 camero\n"
     ]
    }
   ],
   "source": [
    "# to get values, must traverse through keys\n",
    "d5={\n",
    "    \"first_name\":\"Jody\",\n",
    "    \"last_name\": \"Sheffield\",\n",
    "    \"ice_cream\":{\n",
    "        \"praline\":True,\n",
    "        \"tonight_dough\":True,\n",
    "        \"mint\":False\n",
    "    },\n",
    "    \"cars\":[\n",
    "            {\n",
    "                \"name\": \"Firebird\",\n",
    "                \"year\": 1968\n",
    "            },\n",
    "            {\n",
    "                \"name\":\"impala\",\n",
    "                \"year\": 1961\n",
    "            },\n",
    "            {\n",
    "                \"name\":\"camero\",\n",
    "                \"year\": 1972\n",
    "            }        \n",
    "        ],\n",
    "    \"emotions\": ['I am tired', \"I am confused\", \"I am Disgusted\", \"I Am a genious\", \"I am an idoit\"]\n",
    "}\n",
    "# Jody sheffield thinks mint is False\n",
    "\n",
    "print(f'{d5[\"first_name\"]} {d5[\"last_name\"]}')\n",
    "print(d5['ice_cream']['praline'])\n",
    "print(d5['cars'][0])\n",
    "print(d5['cars'][1][\"name\"])\n",
    "print(d5['emotions'][2])\n",
    "print(f'{d5[\"first_name\"]} {d5[\"last_name\"]} thinks mint is {d5[\"ice_cream\"][\"mint\"]}')\n",
    "\n",
    "print(d5['cars'][0][\"year\"],d5['cars'][1][\"year\"],d5['cars'][2][\"year\"])\n",
    "\n",
    "for car in d5['cars']:\n",
    "    print(car['year'])\n",
    "    \n",
    "for flavor, likes in d5[\"ice_cream\"].items():\n",
    "    if likes:\n",
    "        print(f\"Jody likes {flavor}\")\n",
    "    else:\n",
    "        print(f\"Jody does not like {flavor}\")\n",
    "        \n",
    "for emotion in d5[\"emotions\"]:\n",
    "    print(emotion)\n",
    "\n",
    "for element in d5['cars']:\n",
    "    print(f'Jody has a ', end='')\n",
    "    for value in list(element.values())[::-1]:\n",
    "        print(value, end= \" \")\n",
    "    print()\n",
    "#     for key, value in element.items():\n",
    "#         print(f'Jody has a {element[key]} {elementvalue}')\n",
    "\n",
    "for element in d5['cars']:\n",
    "    print(f\"Jody has a {element['year']} {element['name']}\")"
   ]
  },
  {
   "cell_type": "markdown",
   "metadata": {},
   "source": [
    "## Dictionaries vs. Lists (over time) Example of RUNTIME\n",
    "### When inputting values in a Dictionary vs List"
   ]
  },
  {
   "cell_type": "code",
   "execution_count": 144,
   "metadata": {},
   "outputs": [],
   "source": [
    "import time\n",
    "\n",
    "\n",
    "# generate fake dictionary\n",
    "d = {}\n",
    "\n",
    "for i in range(10000000):\n",
    "    d[i] = 'value'\n",
    "    \n",
    "\n",
    "# generate fake list\n",
    "big_list = [x for x in range(10000000)]"
   ]
  },
  {
   "cell_type": "code",
   "execution_count": 146,
   "metadata": {},
   "outputs": [
    {
     "name": "stdout",
     "output_type": "stream",
     "text": [
      "value\n",
      "Elapsed time for dictionary: 0.0002865791320800781\n",
      "9999999\n",
      "Elapsed time for list: 0.6332907676696777\n"
     ]
    },
    {
     "data": {
      "text/plain": [
       "7.62e-05"
      ]
     },
     "execution_count": 146,
     "metadata": {},
     "output_type": "execute_result"
    }
   ],
   "source": [
    "# tracking time for dictionary\n",
    "start_time = time.time()\n",
    "\n",
    "print(d[9999999])\n",
    "\n",
    "end_time = time.time() - start_time\n",
    "\n",
    "print('Elapsed time for dictionary: {}'.format(end_time))\n",
    "\n",
    "\n",
    "# tracking time for list\n",
    "start_time = time.time()\n",
    "\n",
    "for i in range(len(big_list)):\n",
    "    if i == 9999999:\n",
    "        print(i)\n",
    "\n",
    "end_time = time.time() - start_time\n",
    "\n",
    "print('Elapsed time for list: {}'.format(end_time))\n",
    "\n",
    ".0000762"
   ]
  },
  {
   "cell_type": "markdown",
   "metadata": {},
   "source": [
    "## Exercise #3 - Write a Function that asks someone's name and address, and then stores that into a dictionary, and continues to do so until they choose to 'quit'. Once they quit, the program should print all names and addresses. <br>\n",
    "<p>\n",
    "<b>Proper steps:</b><br>\n",
    "step 1: write a function that takes in information and stores it in a dictionary<br>\n",
    "step 2: define an empty dictionary to work with<br>\n",
    "step 3: create our loop, which asks the user for information until they quit<br>\n",
    "step 4: ask for the information, and store it into variables<br>\n",
    "step 5: check if the user types quit<br>\n",
    "step 5a: print out all information<br>\n",
    "step 5b: break out of the loop<br>\n",
    "step 6: if they didn't quit, add the information to the dictionary<br>\n",
    "step 7: invoke the function by calling it\n",
    "</p>"
   ]
  },
  {
   "cell_type": "code",
   "execution_count": 149,
   "metadata": {},
   "outputs": [
    {
     "name": "stdout",
     "output_type": "stream",
     "text": [
      "What is your name? steve\n",
      "What is the address for steve? 123 fake st\n",
      "What is your name? quit\n",
      "{'steve': '123 fake st'}\n"
     ]
    },
    {
     "data": {
      "text/plain": [
       "{'steve': '123 fake st'}"
      ]
     },
     "execution_count": 149,
     "metadata": {},
     "output_type": "execute_result"
    }
   ],
   "source": [
    "def address_book_function():\n",
    "    address_book={}\n",
    "    while True:\n",
    "        name = input(\"What is your name? \").strip()\n",
    "        if name.lower() == 'quit':\n",
    "            print(address_book)\n",
    "            break;\n",
    "        address =  input(f\"What is the address for {name}? \").strip()\n",
    "        if address.lower() == 'quit':\n",
    "            print(address_book)\n",
    "            break;\n",
    "        address_book[name]=address\n",
    "    return address_book\n",
    "\n",
    "address_book_function()        "
   ]
  },
  {
   "cell_type": "code",
   "execution_count": null,
   "metadata": {},
   "outputs": [],
   "source": [
    "What is the name? Steve\n",
    "What is the address for Steve? 123 fake st\n",
    "What is the name? Eddie\n",
    "What is the address for Eddie? 123 mockingbird lane\n",
    "What is the name? quit\n",
    "{'Steve': '123 fake st', 'Eddie': '123 mockingbird lane'}"
   ]
  },
  {
   "cell_type": "markdown",
   "metadata": {},
   "source": [
    "## Set <br>\n",
    "<p>A Set is an unordered collection data type that is iterable (loop), mutable, and has no duplicate elements.<br>Major advantage is that it is highly optimized in checking if something is in the set, as opposed to checking if something is in a list.</p>"
   ]
  },
  {
   "cell_type": "markdown",
   "metadata": {},
   "source": [
    "##### Declaring"
   ]
  },
  {
   "cell_type": "code",
   "execution_count": 166,
   "metadata": {},
   "outputs": [
    {
     "name": "stdout",
     "output_type": "stream",
     "text": [
      "{1, 2, 3}\n",
      "<class 'set'>\n",
      "<class 'dict'>\n"
     ]
    }
   ],
   "source": [
    "# set() or {}\n",
    "# no order {3, 2, 1} outputs as {1, 2, 3}\n",
    "\n",
    "my_set = {3,3,3,3,3,3,3,2,2,2,2,2,1,1,1}\n",
    "print(my_set)\n",
    "\n",
    "my_set = set()\n",
    "print(type(my_set))\n",
    "\n",
    "my_set1 = {} # This is still a dictionary!!!!\n",
    "print(type(my_set1))"
   ]
  },
  {
   "cell_type": "code",
   "execution_count": 169,
   "metadata": {},
   "outputs": [
    {
     "name": "stdout",
     "output_type": "stream",
     "text": [
      "{1, 2, 3}\n"
     ]
    }
   ],
   "source": [
    "my_set = {3,3,3,3,3,3,3,2,2,2,2,2,1,1,1}\n",
    "print(my_set)"
   ]
  },
  {
   "cell_type": "code",
   "execution_count": 172,
   "metadata": {},
   "outputs": [
    {
     "name": "stdout",
     "output_type": "stream",
     "text": [
      "I found it\n"
     ]
    }
   ],
   "source": [
    "my_set={\"A\",\"B\",\"C\"}\n",
    "\n",
    "for letter in my_set:\n",
    "    if letter ==\"B\":\n",
    "        print(\"I found it\")"
   ]
  },
  {
   "cell_type": "code",
   "execution_count": 173,
   "metadata": {},
   "outputs": [
    {
     "name": "stdout",
     "output_type": "stream",
     "text": [
      "True\n",
      "True\n"
     ]
    }
   ],
   "source": [
    "print('c' in ['a','b','c']) # Slow\n",
    "\n",
    "print('c' in {'a','b','c'}) # Fast"
   ]
  },
  {
   "cell_type": "markdown",
   "metadata": {},
   "source": [
    "##### .add()"
   ]
  },
  {
   "cell_type": "code",
   "execution_count": 177,
   "metadata": {},
   "outputs": [
    {
     "name": "stdout",
     "output_type": "stream",
     "text": [
      "{'D', 'A', 'C', 'B'}\n",
      "{'D', 'A', 'C', 'B'}\n"
     ]
    }
   ],
   "source": [
    "# set.add()\n",
    "my_set={\"A\",\"B\",\"C\"}\n",
    "my_set.add(\"D\")\n",
    "print(my_set)\n",
    "my_set.add(\"A\")\n",
    "print(my_set)"
   ]
  },
  {
   "cell_type": "markdown",
   "metadata": {},
   "source": [
    "##### .remove()"
   ]
  },
  {
   "cell_type": "code",
   "execution_count": 180,
   "metadata": {
    "scrolled": true
   },
   "outputs": [
    {
     "name": "stdout",
     "output_type": "stream",
     "text": [
      "{'A', 'C'}\n"
     ]
    },
    {
     "ename": "KeyError",
     "evalue": "'D'",
     "output_type": "error",
     "traceback": [
      "\u001b[0;31m---------------------------------------------------------------------------\u001b[0m",
      "\u001b[0;31mKeyError\u001b[0m                                  Traceback (most recent call last)",
      "\u001b[0;32m<ipython-input-180-e94f7efeba75>\u001b[0m in \u001b[0;36m<module>\u001b[0;34m\u001b[0m\n\u001b[1;32m      5\u001b[0m \u001b[0mmy_set\u001b[0m\u001b[0;34m.\u001b[0m\u001b[0mremove\u001b[0m\u001b[0;34m(\u001b[0m\u001b[0;34m\"B\"\u001b[0m\u001b[0;34m)\u001b[0m\u001b[0;34m\u001b[0m\u001b[0;34m\u001b[0m\u001b[0m\n\u001b[1;32m      6\u001b[0m \u001b[0mprint\u001b[0m\u001b[0;34m(\u001b[0m\u001b[0mmy_set\u001b[0m\u001b[0;34m)\u001b[0m\u001b[0;34m\u001b[0m\u001b[0;34m\u001b[0m\u001b[0m\n\u001b[0;32m----> 7\u001b[0;31m \u001b[0mmy_set\u001b[0m\u001b[0;34m.\u001b[0m\u001b[0mremove\u001b[0m\u001b[0;34m(\u001b[0m\u001b[0;34m\"D\"\u001b[0m\u001b[0;34m)\u001b[0m\u001b[0;34m\u001b[0m\u001b[0;34m\u001b[0m\u001b[0m\n\u001b[0m\u001b[1;32m      8\u001b[0m \u001b[0mprint\u001b[0m\u001b[0;34m(\u001b[0m\u001b[0mmy_set\u001b[0m\u001b[0;34m)\u001b[0m\u001b[0;34m\u001b[0m\u001b[0;34m\u001b[0m\u001b[0m\n",
      "\u001b[0;31mKeyError\u001b[0m: 'D'"
     ]
    }
   ],
   "source": [
    "# removes by value\n",
    "# set.remove()\n",
    "# nums.remove(56)\n",
    "my_set={\"A\",\"B\",\"C\"}\n",
    "my_set.remove(\"B\")\n",
    "print(my_set)\n",
    "my_set.remove(\"D\")\n",
    "print(my_set)"
   ]
  },
  {
   "cell_type": "code",
   "execution_count": 182,
   "metadata": {},
   "outputs": [
    {
     "name": "stdout",
     "output_type": "stream",
     "text": [
      "{'A', 'C', 'B'}\n",
      "{'A', 'C'}\n"
     ]
    }
   ],
   "source": [
    "my_set={\"A\",\"B\",\"C\"}\n",
    "my_set.discard(\"D\")\n",
    "print(my_set)\n",
    "my_set.discard(\"B\")\n",
    "print(my_set)"
   ]
  },
  {
   "cell_type": "markdown",
   "metadata": {},
   "source": [
    "##### .union() "
   ]
  },
  {
   "cell_type": "code",
   "execution_count": 183,
   "metadata": {},
   "outputs": [
    {
     "data": {
      "text/plain": [
       "{1, 2, 3, 4, 5, 6}"
      ]
     },
     "execution_count": 183,
     "metadata": {},
     "output_type": "execute_result"
    }
   ],
   "source": [
    "# Returns a union of two sets, can also use '|' or set.union(set)\n",
    "# joins all numbers, gets rid of duplicates\n",
    "set1 = {1,2,3,4}\n",
    "set2 = {3,4,5,6}\n",
    "\n",
    "\n",
    "set1.union(set2)"
   ]
  },
  {
   "cell_type": "code",
   "execution_count": 184,
   "metadata": {},
   "outputs": [
    {
     "data": {
      "text/plain": [
       "{1, 2, 3, 4, 5, 6}"
      ]
     },
     "execution_count": 184,
     "metadata": {},
     "output_type": "execute_result"
    }
   ],
   "source": [
    "set2.union(set1)"
   ]
  },
  {
   "cell_type": "code",
   "execution_count": 185,
   "metadata": {},
   "outputs": [
    {
     "data": {
      "text/plain": [
       "{1, 2, 3, 4, 5, 6}"
      ]
     },
     "execution_count": 185,
     "metadata": {},
     "output_type": "execute_result"
    }
   ],
   "source": [
    "set2 | set1"
   ]
  },
  {
   "cell_type": "markdown",
   "metadata": {},
   "source": [
    "##### .intersection()"
   ]
  },
  {
   "cell_type": "code",
   "execution_count": 189,
   "metadata": {},
   "outputs": [
    {
     "data": {
      "text/plain": [
       "{3, 4}"
      ]
     },
     "execution_count": 189,
     "metadata": {},
     "output_type": "execute_result"
    }
   ],
   "source": [
    "# Returns an intersection of two sets, can also use '&'\n",
    "# only takes similar elements from both sets\n",
    "set1.intersection(set2)\n",
    "set2.intersection(set1)\n",
    "\n"
   ]
  },
  {
   "cell_type": "markdown",
   "metadata": {},
   "source": [
    "##### .difference()"
   ]
  },
  {
   "cell_type": "code",
   "execution_count": 190,
   "metadata": {},
   "outputs": [
    {
     "name": "stdout",
     "output_type": "stream",
     "text": [
      "{1, 2}\n"
     ]
    }
   ],
   "source": [
    "# Returns a set containing all the elements of invoking set that are not in the second set, can also use '-'\n",
    "# only takes values from the first set that are not in the second set\n",
    "# order matters\n",
    "print(set1.difference(set2))\n",
    "print(set2.difference(set1))\n"
   ]
  },
  {
   "cell_type": "markdown",
   "metadata": {},
   "source": [
    "##### .clear()"
   ]
  },
  {
   "cell_type": "code",
   "execution_count": 191,
   "metadata": {},
   "outputs": [
    {
     "name": "stdout",
     "output_type": "stream",
     "text": [
      "set()\n"
     ]
    }
   ],
   "source": [
    "# Empties the whole set\n",
    "# set.clear()\n",
    "set2.clear()\n",
    "print(set2)"
   ]
  },
  {
   "cell_type": "markdown",
   "metadata": {},
   "source": [
    "##### Frozenset <br>\n",
    "<p>Frozen sets are immutable objects that only support methods and operators that produce a result without affecting the frozen set or sets to which they are applied.</p><br><b>Unique & Immutable</b>"
   ]
  },
  {
   "cell_type": "code",
   "execution_count": 192,
   "metadata": {},
   "outputs": [
    {
     "name": "stdout",
     "output_type": "stream",
     "text": [
      "<class 'set'>\n",
      "<class 'frozenset'>\n",
      "frozenset({1, 2, 3, 4, 5, 6})\n"
     ]
    }
   ],
   "source": [
    "# frozenset([])\n",
    "s3 = {1,2,3,4,5,6}\n",
    "s_frozen=frozenset(s3)\n",
    "print(type(s3))\n",
    "print(type(s_frozen))\n",
    "print(s_frozen)\n"
   ]
  },
  {
   "cell_type": "code",
   "execution_count": 193,
   "metadata": {},
   "outputs": [
    {
     "ename": "AttributeError",
     "evalue": "'frozenset' object has no attribute 'add'",
     "output_type": "error",
     "traceback": [
      "\u001b[0;31m---------------------------------------------------------------------------\u001b[0m",
      "\u001b[0;31mAttributeError\u001b[0m                            Traceback (most recent call last)",
      "\u001b[0;32m<ipython-input-193-cd5d21c8d77d>\u001b[0m in \u001b[0;36m<module>\u001b[0;34m\u001b[0m\n\u001b[0;32m----> 1\u001b[0;31m \u001b[0ms_frozen\u001b[0m\u001b[0;34m.\u001b[0m\u001b[0madd\u001b[0m\u001b[0;34m(\u001b[0m\u001b[0;36m7\u001b[0m\u001b[0;34m)\u001b[0m\u001b[0;34m\u001b[0m\u001b[0;34m\u001b[0m\u001b[0m\n\u001b[0m",
      "\u001b[0;31mAttributeError\u001b[0m: 'frozenset' object has no attribute 'add'"
     ]
    }
   ],
   "source": [
    "s_frozen.add(7)"
   ]
  },
  {
   "cell_type": "markdown",
   "metadata": {},
   "source": [
    "## Modules"
   ]
  },
  {
   "cell_type": "markdown",
   "metadata": {},
   "source": [
    "##### Importing Entire Modules"
   ]
  },
  {
   "cell_type": "code",
   "execution_count": 154,
   "metadata": {},
   "outputs": [
    {
     "name": "stdout",
     "output_type": "stream",
     "text": [
      "3.141592653589793\n",
      "3\n",
      "2\n",
      "3.141592653589793\n"
     ]
    }
   ],
   "source": [
    "# import or from 'xxx' import *\n",
    "# import math\n",
    "import math\n",
    "\n",
    "print(math.pi)\n",
    "\n",
    "print(math.ceil(5/2))\n",
    "print(5//2)\n"
   ]
  },
  {
   "cell_type": "markdown",
   "metadata": {},
   "source": [
    "##### Importing Methods Only"
   ]
  },
  {
   "cell_type": "code",
   "execution_count": null,
   "metadata": {},
   "outputs": [],
   "source": [
    "# from 'xxx' import 'xxx'\n",
    "# from math import floor\n",
    "\n",
    "from math import pi, ceil\n",
    "\n",
    "print(pi)\n",
    "print(ceil(.5))\n"
   ]
  },
  {
   "cell_type": "markdown",
   "metadata": {},
   "source": [
    "##### Using the 'as' Keyword"
   ]
  },
  {
   "cell_type": "code",
   "execution_count": 156,
   "metadata": {},
   "outputs": [
    {
     "name": "stdout",
     "output_type": "stream",
     "text": [
      "3.141592653589793\n",
      "3\n"
     ]
    }
   ],
   "source": [
    "# from 'xxx' import 'xxx' as 'xxx' or import 'xxx' as 'xxx'\n",
    "# from math import floor as f\n",
    "from math import ceil as newceil, pi as newpi\n",
    "\n",
    "print(newpi)\n",
    "print(newceil(5/2))\n"
   ]
  },
  {
   "cell_type": "code",
   "execution_count": 157,
   "metadata": {},
   "outputs": [
    {
     "name": "stdout",
     "output_type": "stream",
     "text": [
      "{1: 5, 2: 3, 3: 2, 4: 2, 5: 1}\n"
     ]
    }
   ],
   "source": [
    "my_list=[1,1,1,2,3,2,4,4,2,5,1,1,3]\n",
    "my_counts={}\n",
    "\n",
    "for i in my_list:\n",
    "    my_counts[i]=my_counts.get(i,0)+1\n",
    "print(my_counts)\n"
   ]
  },
  {
   "cell_type": "code",
   "execution_count": 158,
   "metadata": {},
   "outputs": [
    {
     "name": "stdout",
     "output_type": "stream",
     "text": [
      "Counter({1: 5, 2: 3, 3: 2, 4: 2, 5: 1})\n"
     ]
    }
   ],
   "source": [
    "from collections import Counter\n",
    "my_list=[1,1,1,2,3,2,4,4,2,5,1,1,3]\n",
    "print(Counter(my_list))"
   ]
  },
  {
   "cell_type": "markdown",
   "metadata": {},
   "source": [
    "##### Creating a Module"
   ]
  },
  {
   "cell_type": "code",
   "execution_count": 160,
   "metadata": {},
   "outputs": [
    {
     "name": "stdout",
     "output_type": "stream",
     "text": [
      "hello\n",
      "goodbye\n"
     ]
    }
   ],
   "source": [
    "import mymod # this is the way to import a mod if you are using lots of stuff\n",
    "mymod.say_hello()\n",
    "mymod.say_goodbye()\n"
   ]
  },
  {
   "cell_type": "code",
   "execution_count": 161,
   "metadata": {
    "scrolled": true
   },
   "outputs": [
    {
     "name": "stdout",
     "output_type": "stream",
     "text": [
      "hello\n"
     ]
    }
   ],
   "source": [
    "from mymod import say_hello #generally the best way to import\n",
    "say_hello()"
   ]
  },
  {
   "cell_type": "code",
   "execution_count": 163,
   "metadata": {},
   "outputs": [
    {
     "name": "stdout",
     "output_type": "stream",
     "text": [
      "goodbye\n"
     ]
    }
   ],
   "source": [
    "from mymod import *\n",
    "\n",
    "# --same as saying---\n",
    "from mymod import say_hello, say_goodbye\n",
    "\n",
    "say_goodbye()"
   ]
  },
  {
   "cell_type": "markdown",
   "metadata": {},
   "source": [
    "##### Kevin's program"
   ]
  },
  {
   "cell_type": "code",
   "execution_count": null,
   "metadata": {},
   "outputs": [],
   "source": [
    "## Apply To my Company CLI application\n",
    "def get_name():\n",
    "    name = input(\"What is your first and last name? \")\n",
    "    return name\n",
    "\n",
    "def get_last_job():\n",
    "    job=input(\"What is your prev job? \")\n",
    "    return job\n",
    "    \n",
    "def get_location():\n",
    "    location=input(\"What is your prefered Location? NY/SF/Raleigh\")\n",
    "    return location\n",
    "\n",
    "def main():\n",
    "    while True:\n",
    "        response=input(\"Do you want to apply to my Company\")\n",
    "        if response[0].lower()!='y':\n",
    "            print(\"Why did you come here?\")\n",
    "            break\n",
    "        name =get_name()\n",
    "        job = get_last_job()\n",
    "        local = get_location()\n",
    "        print(f\"name: {name}\\njob: {job}\\nlocation: {local}\")\n",
    "        response = input(\"Is the Above Infomation correct?\")\n",
    "        if response[0].lower()=='y':\n",
    "            print(\"Thanks for applying\")\n",
    "            break\n",
    "        wrong=input(\"What field was wrong? name/job/local? \")\n",
    "        if wrong==\"name\":\n",
    "            name = get_name()\n",
    "        elif wrong==\"job\":\n",
    "            name = get_last_job()\n",
    "        elif wrong == \"local\":\n",
    "            local = get_location()\n",
    "        print(\"Thanks for applying\")\n",
    "        break\n",
    "\n",
    "        \n",
    "        \n",
    "    "
   ]
  },
  {
   "cell_type": "markdown",
   "metadata": {},
   "source": [
    "# Exercises"
   ]
  },
  {
   "cell_type": "markdown",
   "metadata": {},
   "source": [
    "### 1) Build a Shopping Cart <br>\n",
    "<p><b>You can use either lists or dictionaries. The program should have the following capabilities:</b><br><br>\n",
    "1) Takes in input <br>\n",
    "2) Stores user input into a dictionary or list <br>\n",
    "3) The User can add or delete items <br>\n",
    "4) The User can see current shopping list <br>\n",
    "5) The program Loops until user 'quits' <br>\n",
    "6) Upon quiting the program, print out all items in the user's list <br>\n",
    "</p>"
   ]
  },
  {
   "cell_type": "code",
   "execution_count": 95,
   "metadata": {},
   "outputs": [
    {
     "name": "stdout",
     "output_type": "stream",
     "text": [
      "Welcome to our PIZZA store!\n",
      "***To ADD an item in your cart enter a number*** \n",
      "** 'v' - to VIEW your cart \n",
      "** 'r' - to REMOVE item from you cart \n",
      "\n",
      "Today we have: \n",
      "\t- (1) Hawaiian pizza -- $19\n",
      "\t- (2) Sicilian pizza -- $20\n",
      "\t- (3) Pepperoni -- $25\n",
      "\t- (4) Margherita -- $12\n",
      "\t- (5) Beer -- $100\n",
      "\t- (6) CHECKOUT\n",
      "\t- (7) QUIT - enter 6 or 'q'\n",
      "WHAT WOULD YOU LIKE? 1\n",
      "\n",
      ">> (Hawaiian pizza added to your cart)\n",
      "\n",
      "***To ADD an item in your cart enter a number*** \n",
      "** 'v' - to VIEW your cart \n",
      "** 'r' - to REMOVE item from you cart \n",
      "\n",
      "Today we have: \n",
      "\t- (1) Hawaiian pizza -- $19\n",
      "\t- (2) Sicilian pizza -- $20\n",
      "\t- (3) Pepperoni -- $25\n",
      "\t- (4) Margherita -- $12\n",
      "\t- (5) Beer -- $100\n",
      "\t- (6) CHECKOUT\n",
      "\t- (7) QUIT - enter 6 or 'q'\n",
      "WHAT WOULD YOU LIKE? 3\n",
      "\n",
      ">> (Pepperoni pizza added to your cart)\n",
      "\n",
      "***To ADD an item in your cart enter a number*** \n",
      "** 'v' - to VIEW your cart \n",
      "** 'r' - to REMOVE item from you cart \n",
      "\n",
      "Today we have: \n",
      "\t- (1) Hawaiian pizza -- $19\n",
      "\t- (2) Sicilian pizza -- $20\n",
      "\t- (3) Pepperoni -- $25\n",
      "\t- (4) Margherita -- $12\n",
      "\t- (5) Beer -- $100\n",
      "\t- (6) CHECKOUT\n",
      "\t- (7) QUIT - enter 6 or 'q'\n",
      "WHAT WOULD YOU LIKE? 5\n",
      "\n",
      ">> (Beer added to your cart - OH YEAH!)\n",
      "\n",
      "***To ADD an item in your cart enter a number*** \n",
      "** 'v' - to VIEW your cart \n",
      "** 'r' - to REMOVE item from you cart \n",
      "\n",
      "Today we have: \n",
      "\t- (1) Hawaiian pizza -- $19\n",
      "\t- (2) Sicilian pizza -- $20\n",
      "\t- (3) Pepperoni -- $25\n",
      "\t- (4) Margherita -- $12\n",
      "\t- (5) Beer -- $100\n",
      "\t- (6) CHECKOUT\n",
      "\t- (7) QUIT - enter 6 or 'q'\n",
      "WHAT WOULD YOU LIKE? v\n",
      "\n",
      ">>> Items in your cart <<<\n",
      "\t- Hawaiian pizza - $19\n",
      "\t- Pepperoni - $25\n",
      "\t- Beer - $100\n",
      "***To ADD an item in your cart enter a number*** \n",
      "** 'v' - to VIEW your cart \n",
      "** 'r' - to REMOVE item from you cart \n",
      "\n",
      "Today we have: \n",
      "\t- (1) Hawaiian pizza -- $19\n",
      "\t- (2) Sicilian pizza -- $20\n",
      "\t- (3) Pepperoni -- $25\n",
      "\t- (4) Margherita -- $12\n",
      "\t- (5) Beer -- $100\n",
      "\t- (6) CHECKOUT\n",
      "\t- (7) QUIT - enter 6 or 'q'\n",
      "WHAT WOULD YOU LIKE? r\n",
      "\n",
      "* REMOVE ITEM * >>  Enter a first letter (ex. Hawaiian pizza - 'h')\n",
      " *** Enter 'BACK' for MAIN MENU\n",
      "\n",
      ">>> Items in your cart <<<\n",
      "\t- Hawaiian pizza - $19\n",
      "\t- Pepperoni - $25\n",
      "\t- Beer - $100\n",
      "\n",
      "What item do you want to remove?p\n",
      "\n",
      "(Pepperoni pizza was removed)***\n",
      "***To ADD an item in your cart enter a number*** \n",
      "** 'v' - to VIEW your cart \n",
      "** 'r' - to REMOVE item from you cart \n",
      "\n",
      "Today we have: \n",
      "\t- (1) Hawaiian pizza -- $19\n",
      "\t- (2) Sicilian pizza -- $20\n",
      "\t- (3) Pepperoni -- $25\n",
      "\t- (4) Margherita -- $12\n",
      "\t- (5) Beer -- $100\n",
      "\t- (6) CHECKOUT\n",
      "\t- (7) QUIT - enter 6 or 'q'\n",
      "WHAT WOULD YOU LIKE? 6\n",
      "\n",
      ">>> PLEASE CHECK YOU ORDER <<<\n",
      "\t- Hawaiian pizza - $19\n",
      "\t- Beer - $100\n",
      "\n",
      "\t* TOTAL is - $119 (tax incl.)\n",
      "Is everything correct? Place the order (yes/no)n\n",
      "***To ADD an item in your cart enter a number*** \n",
      "** 'v' - to VIEW your cart \n",
      "** 'r' - to REMOVE item from you cart \n",
      "\n",
      "Today we have: \n",
      "\t- (1) Hawaiian pizza -- $19\n",
      "\t- (2) Sicilian pizza -- $20\n",
      "\t- (3) Pepperoni -- $25\n",
      "\t- (4) Margherita -- $12\n",
      "\t- (5) Beer -- $100\n",
      "\t- (6) CHECKOUT\n",
      "\t- (7) QUIT - enter 6 or 'q'\n",
      "WHAT WOULD YOU LIKE? 4\n",
      "\n",
      ">> (Margherita pizza added to your cart)\n",
      "\n",
      "***To ADD an item in your cart enter a number*** \n",
      "** 'v' - to VIEW your cart \n",
      "** 'r' - to REMOVE item from you cart \n",
      "\n",
      "Today we have: \n",
      "\t- (1) Hawaiian pizza -- $19\n",
      "\t- (2) Sicilian pizza -- $20\n",
      "\t- (3) Pepperoni -- $25\n",
      "\t- (4) Margherita -- $12\n",
      "\t- (5) Beer -- $100\n",
      "\t- (6) CHECKOUT\n",
      "\t- (7) QUIT - enter 6 or 'q'\n",
      "WHAT WOULD YOU LIKE? 6\n",
      "\n",
      ">>> PLEASE CHECK YOU ORDER <<<\n",
      "\t- Hawaiian pizza - $19\n",
      "\t- Beer - $100\n",
      "\t- Margherita - $12\n",
      "\n",
      "\t* TOTAL is - $131 (tax incl.)\n",
      "Is everything correct? Place the order (yes/no)y\n",
      "\n",
      ">>> Your order received <<<\n",
      "\t- Hawaiian pizza - $19\n",
      "\t- Beer - $100\n",
      "\t- Margherita - $12\n",
      "\n",
      "\t* TOTAL is - $131 (tax incl.)\n",
      "\n",
      "Thank you for visiting us! Have a great day!\n"
     ]
    }
   ],
   "source": [
    "from IPython.display import clear_output\n",
    "\n",
    "cart = {}\n",
    "\n",
    "\n",
    "print(\"Welcome to our PIZZA store!\")\n",
    "while True:\n",
    "    \n",
    "    assort = input(\"***To ADD an item in your cart enter a number*** \"\n",
    "                   \"\\n** 'v' - to VIEW your cart \"\n",
    "                   \"\\n** 'r' - to REMOVE item from you cart \\n\"\n",
    "                   \"\\nToday we have: \"\n",
    "                   \"\\n\\t- (1) Hawaiian pizza -- $19\"\n",
    "                   \"\\n\\t- (2) Sicilian pizza -- $20\"\n",
    "                   \"\\n\\t- (3) Pepperoni -- $25\"\n",
    "                   \"\\n\\t- (4) Margherita -- $12\"\n",
    "                   \"\\n\\t- (5) Beer -- $100\"\n",
    "                   \"\\n\\t- (6) CHECKOUT\"\n",
    "                   \"\\n\\t- (7) QUIT - enter 6 or 'q'\"\n",
    "                   \n",
    "                   \n",
    "                   \"\\nWHAT WOULD YOU LIKE? \")\n",
    "    \n",
    "    # QUIT\n",
    "    if assort[0].lower() == 'q' or assort == \"7\":\n",
    "        print(\"\\nThank you for visiting us! Have a great day!\")\n",
    "        break\n",
    " \n",
    "    #CHECK OUT\n",
    "    if assort[0].lower() == 'c' or assort == \"6\":\n",
    "        if cart == {}:\n",
    "            print(\"\\nYOUR CART IS EMPTY\")\n",
    "        else:\n",
    "            print(\"\\n>>> PLEASE CHECK YOU ORDER <<<\")\n",
    "           \n",
    "            for pizza, price in cart.items():\n",
    "                \n",
    "                print(f\"\\t- {pizza} - ${price}\")\n",
    "            \n",
    "            #TOTAL\n",
    "            total = 0\n",
    "            for price in cart.values():\n",
    "                total += price\n",
    "            print(f\"\\n\\t* TOTAL is - ${total} (tax incl.)\")\n",
    "                \n",
    "            \n",
    "            correct = input(\"Is everything correct? Place the order (yes/no)\")\n",
    "            if correct[0].lower() == 'y':\n",
    "                print(\"\\n>>> Your order received <<<\")\n",
    "                for pizza, price in cart.items():\n",
    "                    print(f\"\\t- {pizza} - ${price}\")\n",
    "                    \n",
    "                 #TOTAL\n",
    "               \n",
    "                print(f\"\\n\\t* TOTAL is - ${total} (tax incl.)\")\n",
    "            \n",
    "                print(\"\\nThank you for visiting us! Have a great day!\")\n",
    "                break\n",
    "            \n",
    "            else:\n",
    "                remove = assort\n",
    "        \n",
    "           \n",
    "    #VIEWING THE CART\n",
    "    if assort[0].lower() == 'v':\n",
    "        if cart == {}:\n",
    "            print(\"\\nYOUR CART IS EMPTY\")\n",
    "        else:\n",
    "            print(\"\\n>>> Items in your cart <<<\")\n",
    "           \n",
    "            for pizza, price in cart.items():\n",
    "                \n",
    "                print(f\"\\t- {pizza} - ${price}\")\n",
    "                \n",
    "            \n",
    "    #REMOVING ITEM\n",
    "    if assort[0].lower() == 'r':\n",
    "        print(\"\\n* REMOVE ITEM * >>  Enter a first letter (ex. Hawaiian pizza - 'h')\"\n",
    "              \"\\n *** Enter 'BACK' for MAIN MENU\")\n",
    "        \n",
    "        if cart != {}:\n",
    "            print(\"\\n>>> Items in your cart <<<\")\n",
    "            for pizza, price in cart.items():\n",
    "                print(f\"\\t- {pizza} - ${price}\")\n",
    "        remove = input(\"\\nWhat item do you want to remove?\")\n",
    "        \n",
    "        \n",
    "        if remove == 'h':\n",
    "            del cart[\"Hawaiian pizza\"]\n",
    "            print(\"\\n(Hawaiian pizza was removed)***\")\n",
    "            \n",
    "        elif remove == 's':\n",
    "            del cart[\"Sicilian pizza\"]\n",
    "            print(\"\\n(Sicilian pizza was removed)***\")\n",
    "\n",
    "        elif remove == 'p':\n",
    "            del cart[\"Pepperoni\"]\n",
    "            print(\"\\n(Pepperoni pizza was removed)***\")\n",
    "\n",
    "        elif remove == 'm':\n",
    "            del cart[\"Margherita\"]\n",
    "            print(\"\\n(Margherita pizza was removed)***\")\n",
    "\n",
    "        elif remove == 'b':\n",
    "            del cart[\"Beer\"]\n",
    "            print(\"\\n(Beer was removed - NOOOOO!)***\")\n",
    "        \n",
    "        elif remove.lower() == 'back':\n",
    "            remove = assort\n",
    "            \n",
    "        else:\n",
    "            print(\"\\nYOUR CART IS EMPTY\")\n",
    "            \n",
    "        \n",
    "    #ADDING TO CARD\n",
    "    if assort[0].lower() == 'h' or assort == \"1\":\n",
    "        \n",
    "        cart[\"Hawaiian pizza\"] = 19\n",
    "        print(\"\\n>> (Hawaiian pizza added to your cart)\\n\")\n",
    "        \n",
    "    elif assort[0].lower() == 's' or assort == \"2\":\n",
    "        cart[\"Sicilian pizza\"] = 20\n",
    "        print(\"\\n>> (Sicilian pizza added to your cart)\\n\")\n",
    "    \n",
    "    elif assort[0].lower() == 'p' or assort == \"3\":\n",
    "        cart[\"Pepperoni\"] = 25\n",
    "        print(\"\\n>> (Pepperoni pizza added to your cart)\\n\")\n",
    "        \n",
    "    elif assort[0].lower() == 'm' or assort == \"4\":\n",
    "        cart[\"Margherita\"] = 12\n",
    "        print(\"\\n>> (Margherita pizza added to your cart)\\n\")\n",
    "    \n",
    "    elif assort[0].lower() == 'b' or assort == \"5\":\n",
    "        cart[\"Beer\"] = 100\n",
    "        print(\"\\n>> (Beer added to your cart - OH YEAH!)\\n\")\n",
    "    \n",
    "     \n",
    "\n",
    "\n"
   ]
  },
  {
   "cell_type": "markdown",
   "metadata": {},
   "source": [
    "### 2) Create a Module in VS Code and Import It into jupyter notebook <br>\n",
    "<p><b>Module should have the following capabilities:</b><br><br>\n",
    "1) Has a function to calculate the square footage of a house <br>\n",
    "    <b>Reminder of Formula: Length X Width == Area<br>\n",
    "        <hr>\n",
    "2) Has a function to calculate the circumference of a circle <br><br>\n",
    "<b>Program in Jupyter Notebook should take in user input and use imported functions to calculate a circle's circumference or a houses square footage</b>\n",
    "</p>"
   ]
  },
  {
   "cell_type": "code",
   "execution_count": 40,
   "metadata": {
    "scrolled": true
   },
   "outputs": [
    {
     "name": "stdout",
     "output_type": "stream",
     "text": [
      "\n",
      "Enter the LENGTH (in ft) of the house /'q' - quit the program/ asd\n",
      "\n",
      "!ERROR: WRONG INPUT! Please enter ONLY numbers! /'q' - quit the program/ \n",
      "\n",
      "Enter the LENGTH (in ft) of the house /'q' - quit the program/ 20\n",
      "\n",
      "Enter the WIDTH of the house /'q' - quit the program/ 50\n",
      "\n",
      "House with (length - 20ft) and (width - 50ft) are 1000 square feet.\n",
      "Do you want to calculate another house? (yes/no) yes\n",
      "\n",
      "Enter the LENGTH (in ft) of the house /'q' - quit the program/ 30\n",
      "\n",
      "Enter the WIDTH of the house /'q' - quit the program/ 40\n",
      "\n",
      "House with (length - 30ft) and (width - 40ft) are 1200 square feet.\n",
      "Do you want to calculate another house? (yes/no) no\n",
      "\n",
      "***Thank you for visiting us***\n"
     ]
    }
   ],
   "source": [
    "# 1\n",
    "from hwmod import house_sqf\n",
    "\n",
    "\n",
    "while True:\n",
    "    length = input(\"\\nEnter the LENGTH (in ft) of the house /'q' - quit the program/ \")\n",
    "\n",
    "    if length[0].lower() == 'q':\n",
    "        print(\"\\n***No LENGTH entered. Can't calculate square footage. Bye!***\")\n",
    "        break\n",
    "    elif length[0].lower() in \"abcdefghijklmnoprstuvwxyz\":\n",
    "        print(\"\\n!ERROR: WRONG INPUT! Please enter ONLY numbers! /'q' - quit the program/ \")\n",
    "        continue\n",
    "      \n",
    "        \n",
    "    width = input(\"\\nEnter the WIDTH of the house /'q' - quit the program/ \")\n",
    "    if width == 'q':\n",
    "        print(\"\\n***No WIDTH entered. Can't calculate square footage. Bye!***\")\n",
    "        break\n",
    "      \n",
    "    \n",
    "    if length.isnumeric() and width.isnumeric:\n",
    "        length = int(length)\n",
    "        width = int(width)\n",
    "        sqf = house_sqf(length, width)\n",
    "        print(f\"\\nHouse with (length - {length}ft) and (width - {width}ft) are {sqf} square feet.\")\n",
    "        repeat = input(\"Do you want to calculate another house? (yes/no) \")\n",
    "    if repeat[0].lower() == 'n':\n",
    "        print(\"\\n***Thank you for visiting us***\")\n",
    "        break\n",
    "    elif repeat[0].lower() in \"abcdefghijklmnopqrstuvwxz\":\n",
    "        print(\"\\n!ERROR: WRONG INPUT! Please enter (yes or no) \")\n",
    "        continue\n",
    "    \n",
    "    "
   ]
  },
  {
   "cell_type": "code",
   "execution_count": 3,
   "metadata": {
    "scrolled": false
   },
   "outputs": [
    {
     "name": "stdout",
     "output_type": "stream",
     "text": [
      "For calculating circumference please enter RADIUS in cm /'q' - quit the program/ fdg\n",
      "\n",
      "!ERROR: WRONG INPUT! Please enter ONLY numbers! /'q' - quit the program/ \n",
      "For calculating circumference please enter RADIUS in cm /'q' - quit the program/ 10\n",
      "\n",
      "Circumference with (radius - 10cm) is 62.83 cm.\n",
      "Do you want to calculate another circumference? (yes/no) yes\n",
      "For calculating circumference please enter RADIUS in cm /'q' - quit the program/ 20\n",
      "\n",
      "Circumference with (radius - 20cm) is 125.66 cm.\n",
      "Do you want to calculate another circumference? (yes/no) no\n",
      "\n",
      "***Thank you for visiting us***\n"
     ]
    }
   ],
   "source": [
    "# 2\n",
    "from hwmod import circumference\n",
    "\n",
    "while True:\n",
    "    radius = input(\"For calculating circumference please enter RADIUS in cm /'q' - quit the program/ \")\n",
    "    if radius[0].lower() == 'q':\n",
    "        print(\"\\n***No RADIUS entered. Can't calculate circumference. Bye!***\")\n",
    "        break\n",
    "    elif radius[0].lower() in \"abcdefghijklmnoprstuvwxyz\":\n",
    "        print(\"\\n!ERROR: WRONG INPUT! Please enter ONLY numbers! /'q' - quit the program/ \")\n",
    "        continue\n",
    "        \n",
    "    if radius.isnumeric():\n",
    "        radius = int(radius)\n",
    "        \n",
    "        circ = circumference(radius)\n",
    "        print(f\"\\nCircumference with (radius - {radius}cm) is {circ} cm.\")\n",
    "        repeat = input(\"Do you want to calculate another circumference? (yes/no) \")\n",
    "    if repeat[0].lower() == 'n':\n",
    "        print(\"\\n***Thank you for visiting us***\")\n",
    "        break\n",
    "    elif repeat[0].lower() in \"abcdefghijklmnopqrstuvwxz\":\n",
    "        print(\"\\n!ERROR: WRONG INPUT! Please enter (yes or no) \")\n",
    "        continue\n",
    "        \n",
    "    "
   ]
  }
 ],
 "metadata": {
  "kernelspec": {
   "display_name": "Python 3 (ipykernel)",
   "language": "python",
   "name": "python3"
  },
  "language_info": {
   "codemirror_mode": {
    "name": "ipython",
    "version": 3
   },
   "file_extension": ".py",
   "mimetype": "text/x-python",
   "name": "python",
   "nbconvert_exporter": "python",
   "pygments_lexer": "ipython3",
   "version": "3.9.12"
  }
 },
 "nbformat": 4,
 "nbformat_minor": 2
}
